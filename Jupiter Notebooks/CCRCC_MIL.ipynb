{
  "cells": [
    {
      "cell_type": "code",
      "execution_count": null,
      "metadata": {
        "id": "jb3EcFW_j44C"
      },
      "outputs": [],
      "source": [
        "# Extract tiles\n",
        "!unzip \"/content/drive/MyDrive/Data Science/DS projects/MIL CCRCC/40_20/Train_500.zip\" -d \"/content/Train_500\" # Train dataset 500 samples\n",
        "!unzip \"/content/drive/MyDrive/Data Science/DS projects/MIL CCRCC/40_20/Train_1000.zip\" -d \"/content/Train_1000\" # Train dataset 1000 samples\n",
        "!unzip \"/content/drive/MyDrive/Data Science/DS projects/MIL CCRCC/40_20/Train_2000.zip\" -d \"/content/Train_2000\" # Train dataset 2000 samples\n",
        "!unzip \"/content/drive/MyDrive/Data Science/DS projects/MIL CCRCC/40_20/Validation_100.zip\" -d \"/content/Validation\" # Validation dataset"
      ]
    },
    {
      "cell_type": "code",
      "execution_count": null,
      "metadata": {
        "id": "afy9G8NTlE6y"
      },
      "outputs": [],
      "source": [
        "!mv \"/content/Train_500/Train_500/df.csv\" \"/content/Train_500\"\n",
        "!mv \"/content/Train_1000/Train_1000/df.csv\" \"/content/Train_1000\"\n",
        "!mv \"/content/Train_2000/Train_2000/df.csv\" \"/content/Train_2000\"\n",
        "!mv \"/content/Validation/Validation_100/df.csv\" \"/content/Validation\""
      ]
    },
    {
      "cell_type": "markdown",
      "metadata": {
        "id": "FzMQkcsZx4-1"
      },
      "source": [
        "# Import libraries"
      ]
    },
    {
      "cell_type": "code",
      "execution_count": null,
      "metadata": {
        "id": "WBCs1DElY2-f"
      },
      "outputs": [],
      "source": [
        "import numpy as np\n",
        "from os import listdir\n",
        "import os\n",
        "import pandas as pd\n",
        "import tensorflow as tf\n",
        "import sys\n",
        "sys.path.append('/content/drive/MyDrive/Data Science/DS projects/MIL CCRCC/py_files')\n",
        "from CustomDataGenerator import CustomDataGenerator\n",
        "from SimpleModel import SimpleModel"
      ]
    },
    {
      "cell_type": "markdown",
      "metadata": {
        "id": "c-f_AUHMJv20"
      },
      "source": [
        "# Functions defenition"
      ]
    },
    {
      "cell_type": "code",
      "execution_count": null,
      "metadata": {
        "id": "rLsOKsye_Ksu"
      },
      "outputs": [],
      "source": [
        "# Create pandas Dataframe\n",
        "def make_dataframe(dir_inst, dir_labels, shuffle = True):\n",
        "        \"\"\" make pandas DataFrame from files in folders\n",
        "    Parameters\n",
        "    -------------------\n",
        "    dir_inst (str) - path to directory fith folders, where each folder is a bag of instances\n",
        "    dir_labels (str) - path to pandas DataFrame with labels\n",
        "    shuffle (boolean) - shuffle DataFrame. Default - True\n",
        "    Returns\n",
        "    -------------------\n",
        "    pandas.DataFrame\n",
        "    \"\"\"\n",
        "        cases = sorted(os.listdir(dir_inst))\n",
        "        print('There are ' + str(len(cases)) + ' folders in directory')\n",
        "        folders = list()\n",
        "        for root, dirs, files in os.walk(dir_inst, topdown=False):\n",
        "            for name in dirs:\n",
        "                folders.append(os.path.join(root, name))\n",
        "        data = list()\n",
        "        for folder in folders:\n",
        "            images = [folder + '/'+ x for x in os.listdir(folder)]\n",
        "            data.append(images)\n",
        "        df = pd.DataFrame({'patient': cases,'X_col': sorted(data)})\n",
        "        \n",
        "        # marge with label dataframe\n",
        "        label_df = pd.read_csv(dir_labels)\n",
        "        df['patient'] = df['patient'].astype('int')\n",
        "        df = df.merge(label_df, left_on = 'patient', right_on = 'case', how = 'inner').loc[:,['case','X_col','y_true']]\n",
        "        \n",
        "        # shuffle condition\n",
        "        if shuffle == True:\n",
        "          df = df.sample(frac = 1,ignore_index = True)\n",
        "        else:\n",
        "          df = df.sort_values(by = ['case'], ignore_index = True)\n",
        "          \n",
        "        print('_ _ _ _ _ Pandas dataframe is ready _ _ _ _ _')\n",
        "        return df\n"
      ]
    },
    {
      "cell_type": "markdown",
      "metadata": {
        "id": "d4Uv8qYzq17n"
      },
      "source": [
        "# Train SimpleModel (Model_500) with dataset, which contains 500 bags of instances"
      ]
    },
    {
      "cell_type": "code",
      "execution_count": null,
      "metadata": {
        "id": "gQhzN6Yqq173"
      },
      "outputs": [],
      "source": [
        "train_df = make_dataframe(dir_inst = '/content/Train_500/Train_500', \n",
        "                            dir_labels = '/content/Train_500/df.csv', \n",
        "                            shuffle = True)\n",
        "val_df = make_dataframe(dir_inst = '/content/Validation/Validation_100', \n",
        "                            dir_labels = '/content/Validation/df.csv', \n",
        "                            shuffle = False)\n",
        "\n",
        "train_gen_500 = CustomDataGenerator (df = train_df, shuffle = True, augmentations = True )\n",
        "val_gen_500 = CustomDataGenerator (df = val_df, shuffle = False, augmentations = False )\n"
      ]
    },
    {
      "cell_type": "code",
      "execution_count": null,
      "metadata": {
        "id": "a-JeAa7aq174"
      },
      "outputs": [],
      "source": [
        "# Callbacks\n",
        "\n",
        "model_checkpoint = keras.callbacks.ModelCheckpoint(\n",
        "        '/content/drive/MyDrive/Data Science/DS projects/MIL CCRCC/40_20/Models/Simple_Model_500/Simple_Model_500',\n",
        "        monitor=\"val_loss\",\n",
        "        verbose=1,\n",
        "        mode=\"min\",\n",
        "        save_best_only=True,\n",
        "        save_weights_only= False,\n",
        "    )\n",
        "csv_logger = tf.keras.callbacks.CSVLogger('/content/Simple_Model_500.csv', \n",
        "                                          separator=\",\", \n",
        "                                          append=True)\n",
        "\n",
        "es = tf.keras.callbacks.EarlyStopping(\n",
        "    monitor=\"val_loss\",\n",
        "    patience=10,\n",
        "    verbose=1,\n",
        "    mode=\"min\")\n",
        "\n"
      ]
    },
    {
      "cell_type": "code",
      "execution_count": null,
      "metadata": {
        "id": "pLOm8xCnq175"
      },
      "outputs": [],
      "source": [
        "opt = tf.keras.optimizers.Adam(learning_rate=1e-3, decay=0.0005, beta_1=0.9, beta_2=0.999)\n",
        "model_500 = SimpleModel(bag_size = 40, instance_shape = (256, 256, 3) )\n",
        "model_500.compile(optimizer = opt, \n",
        "    loss='categorical_crossentropy', metrics=[\"accuracy\",tf.keras.metrics.AUC(name = 'AUC'),\n",
        "                                                        tf.keras.metrics.AUC(curve = 'PR',name = 'PR_AUC'), \n",
        "                                                        tf.keras.metrics.Precision(name = 'Precision',class_id = 1),\n",
        "                                                        tf.keras.metrics.Recall(name = 'Recall',class_id = 1)])"
      ]
    },
    {
      "cell_type": "code",
      "execution_count": null,
      "metadata": {
        "id": "I2UCUbp0q176"
      },
      "outputs": [],
      "source": [
        "model_500.fit(\n",
        "        train_gen_500,\n",
        "        validation_data = val_gen_500 ,\n",
        "        epochs=100,\n",
        "        batch_size= 1,\n",
        "        callbacks=[model_checkpoint,csv_logger,es], \n",
        "        verbose=1)"
      ]
    },
    {
      "cell_type": "markdown",
      "metadata": {
        "id": "lTgkPWty0zS-"
      },
      "source": [
        "# Train SimpleModel (Model_1000) with dataset, which contains 1000 bags of instances"
      ]
    },
    {
      "cell_type": "code",
      "execution_count": null,
      "metadata": {
        "id": "1Y9VbZU90zS-"
      },
      "outputs": [],
      "source": [
        "train_df = make_dataframe(dir_inst = '/content/Train_1000/Train_1000', \n",
        "                            dir_labels = '/content/Train_1000/df.csv', \n",
        "                            shuffle = True)\n",
        "val_df = make_dataframe(dir_inst = '/content/Validation/Validation_100', \n",
        "                            dir_labels = '/content/Validation/df.csv', \n",
        "                            shuffle = False)\n",
        "\n",
        "train_gen_1000 = CustomDataGenerator (df = train_df, shuffle = True, augmentations = True )\n",
        "val_gen_1000 = CustomDataGenerator (df = val_df, shuffle = False, augmentations = False )\n"
      ]
    },
    {
      "cell_type": "code",
      "execution_count": null,
      "metadata": {
        "id": "P7m5g3oA0zS_"
      },
      "outputs": [],
      "source": [
        "# Callbacks\n",
        "\n",
        "model_checkpoint = tf.keras.callbacks.ModelCheckpoint(\n",
        "        '/content/drive/MyDrive/Data Science/DS projects/MIL CCRCC/40_20/Models/Simple_Model_1000/Simple_Model_1000',\n",
        "        monitor=\"val_loss\",\n",
        "        verbose=1,\n",
        "        mode=\"min\",\n",
        "        save_best_only=True,\n",
        "        save_weights_only= False)\n",
        "        \n",
        "csv_logger = tf.keras.callbacks.CSVLogger('/content/Simple_Model_1000.csv', \n",
        "                                          separator=\",\", \n",
        "                                          append=True)\n",
        "\n",
        "es = tf.keras.callbacks.EarlyStopping(\n",
        "    monitor=\"val_loss\",\n",
        "    patience=10,\n",
        "    verbose=1,\n",
        "    mode=\"min\")\n",
        "\n"
      ]
    },
    {
      "cell_type": "code",
      "execution_count": null,
      "metadata": {
        "id": "uACWCMGO0zTA"
      },
      "outputs": [],
      "source": [
        "opt = tf.keras.optimizers.Adam(learning_rate=1e-3, decay=0.0005, beta_1=0.9, beta_2=0.999)\n",
        "model_1000 = SimpleModel(bag_size = 40, instance_shape = (256, 256, 3) )\n",
        "model_1000.compile(optimizer = opt, \n",
        "    loss='categorical_crossentropy', metrics=[\"accuracy\",tf.keras.metrics.AUC(name = 'AUC'),\n",
        "                                                        tf.keras.metrics.AUC(curve = 'PR',name = 'PR_AUC'), \n",
        "                                                        tf.keras.metrics.Precision(name = 'Precision',class_id = 1),\n",
        "                                                        tf.keras.metrics.Recall(name = 'Recall',class_id = 1)])"
      ]
    },
    {
      "cell_type": "code",
      "execution_count": null,
      "metadata": {
        "id": "B8VI4piT0zTA"
      },
      "outputs": [],
      "source": [
        "model_1000.fit(\n",
        "        train_gen_1000,\n",
        "        validation_data = val_gen_1000 ,\n",
        "        epochs=100,\n",
        "        batch_size= 1,\n",
        "        callbacks=[model_checkpoint,csv_logger,es],\n",
        "        verbose=1)"
      ]
    },
    {
      "cell_type": "markdown",
      "source": [
        "# Train SimpleModel (Model_2000) with dataset, which contains 2000 bags of instances"
      ],
      "metadata": {
        "id": "VVonId82wyEN"
      }
    },
    {
      "cell_type": "code",
      "source": [
        "train_df = make_dataframe(dir_inst = '/content/Train_2000/Train_2000', \n",
        "                            dir_labels = '/content/Train_2000/df.csv', \n",
        "                            shuffle = True)\n",
        "val_df = make_dataframe(dir_inst = '/content/Validation/Validation_100', \n",
        "                            dir_labels = '/content/Validation/df.csv', \n",
        "                            shuffle = False)\n",
        "\n",
        "train_gen_2000 = CustomDataGenerator (df = train_df, shuffle = True, augmentations = True )\n",
        "val_gen_2000 = CustomDataGenerator (df = val_df, shuffle = False, augmentations = False )"
      ],
      "metadata": {
        "id": "m57ht_xlw1w2"
      },
      "execution_count": null,
      "outputs": []
    },
    {
      "cell_type": "code",
      "source": [
        "# Callbacks\n",
        "\n",
        "model_checkpoint = tf.keras.callbacks.ModelCheckpoint(\n",
        "        '/content/drive/MyDrive/Data Science/DS projects/MIL CCRCC/40_20/Models/Simple_Model_2000/Simple_Model_2000',\n",
        "        monitor=\"val_loss\",\n",
        "        verbose=1,\n",
        "        mode=\"min\",\n",
        "        save_best_only=True,\n",
        "        save_weights_only= False)\n",
        "        \n",
        "csv_logger = tf.keras.callbacks.CSVLogger('/content/Simple_Model_2000.csv', \n",
        "                                          separator=\",\", \n",
        "                                          append=True)\n",
        "\n",
        "es = tf.keras.callbacks.EarlyStopping(\n",
        "    monitor=\"val_loss\",\n",
        "    patience=10,\n",
        "    verbose=1,\n",
        "    mode=\"min\")"
      ],
      "metadata": {
        "id": "fcl_KWZCygL8"
      },
      "execution_count": null,
      "outputs": []
    },
    {
      "cell_type": "code",
      "source": [
        "opt = tf.keras.optimizers.Adam(learning_rate=1e-3, decay=0.0005, beta_1=0.9, beta_2=0.999)\n",
        "model_2000 = SimpleModel(bag_size = 40, instance_shape = (256, 256, 3) )\n",
        "model_2000.compile(optimizer = opt, \n",
        "    loss='categorical_crossentropy', metrics=[\"accuracy\",tf.keras.metrics.AUC(name = 'AUC'),\n",
        "                                                        tf.keras.metrics.AUC(curve = 'PR',name = 'PR_AUC'), \n",
        "                                                        tf.keras.metrics.Precision(name = 'Precision',class_id = 1),\n",
        "                                                        tf.keras.metrics.Recall(name = 'Recall',class_id = 1)])"
      ],
      "metadata": {
        "id": "7HgpQZ5Ly4Zd"
      },
      "execution_count": null,
      "outputs": []
    },
    {
      "cell_type": "code",
      "source": [
        "model_2000.fit(\n",
        "        train_gen_2000,\n",
        "        validation_data = val_gen_2000 ,\n",
        "        epochs=100,\n",
        "        batch_size= 1,\n",
        "        callbacks=[model_checkpoint,csv_logger,es],\n",
        "        verbose=1)"
      ],
      "metadata": {
        "id": "bOHA9Uzoy_SZ"
      },
      "execution_count": null,
      "outputs": []
    }
  ],
  "metadata": {
    "colab": {
      "collapsed_sections": [
        "d4Uv8qYzq17n"
      ],
      "provenance": []
    },
    "gpuClass": "standard",
    "kernelspec": {
      "display_name": "Python 3",
      "name": "python3"
    },
    "language_info": {
      "name": "python"
    },
    "accelerator": "GPU"
  },
  "nbformat": 4,
  "nbformat_minor": 0
}