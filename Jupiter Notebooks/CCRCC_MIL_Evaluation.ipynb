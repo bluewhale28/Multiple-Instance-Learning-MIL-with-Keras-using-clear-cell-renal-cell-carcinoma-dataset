{
  "nbformat": 4,
  "nbformat_minor": 0,
  "metadata": {
    "colab": {
      "provenance": [],
      "collapsed_sections": []
    },
    "kernelspec": {
      "name": "python3",
      "display_name": "Python 3"
    },
    "language_info": {
      "name": "python"
    },
    "accelerator": "GPU"
  },
  "cells": [
    {
      "cell_type": "code",
      "source": [
        "!unzip \"/content/drive/MyDrive/Data Science/DS projects/MIL CCRCC/Test/Test_40_20.zip\" -d \"/content/Test_40_20\" # Test 40_20\n",
        "!unzip \"/content/drive/MyDrive/Data Science/DS projects/MIL CCRCC/Test/Test_40_10.zip\" -d \"/content/Test_40_10\" # Test 40_10\n",
        "!unzip \"/content/drive/MyDrive/Data Science/DS projects/MIL CCRCC/Test/Test_40_5.zip\" -d \"/content/Test_40_5\" # Test 40_5\n",
        "!unzip \"/content/drive/MyDrive/Data Science/DS projects/MIL CCRCC/Test/Test_40_1.zip\" -d \"/content/Test_40_1\" # Test 40_1\n",
        "!mv \"/content/Test_40_20/Test_40_20/df.csv\" \"/content/Test_40_20\"\n",
        "!mv \"/content/Test_40_10/Test_40_10/df.csv\" \"/content/Test_40_10\"\n",
        "!mv \"/content/Test_40_5/Test_40_5/df.csv\" \"/content/Test_40_5\"\n",
        "!mv \"/content/Test_40_1/Test_40_1/df.csv\" \"/content/Test_40_1\""
      ],
      "metadata": {
        "id": "MrWf7vvKnfho"
      },
      "execution_count": null,
      "outputs": []
    },
    {
      "cell_type": "markdown",
      "metadata": {
        "id": "FzMQkcsZx4-1"
      },
      "source": [
        "# Import libraries"
      ]
    },
    {
      "cell_type": "code",
      "execution_count": null,
      "metadata": {
        "id": "WBCs1DElY2-f"
      },
      "outputs": [],
      "source": [
        "import numpy as np\n",
        "from os import listdir\n",
        "import os\n",
        "import pandas as pd\n",
        "import tensorflow as tf\n",
        "import sys\n",
        "sys.path.append('/content/drive/MyDrive/Data Science/DS projects/MIL CCRCC/py_files')\n",
        "from CustomDataGenerator import CustomDataGenerator"
      ]
    },
    {
      "cell_type": "markdown",
      "metadata": {
        "id": "c-f_AUHMJv20"
      },
      "source": [
        "# Functions defenition"
      ]
    },
    {
      "cell_type": "code",
      "execution_count": null,
      "metadata": {
        "id": "rLsOKsye_Ksu"
      },
      "outputs": [],
      "source": [
        "# Create pandas Dataframe\n",
        "def make_dataframe(dir_inst, dir_labels, shuffle = True):\n",
        "        \"\"\" make pandas DataFrame from files in folders\n",
        "    Parameters\n",
        "    -------------------\n",
        "    dir_inst (str) - path to directory fith folders, where each folder is a bag of instances\n",
        "    dir_labels (str) - path to pandas DataFrame with labels\n",
        "    shuffle (boolean) - shuffle DataFrame. Default - True\n",
        "    Returns\n",
        "    -------------------\n",
        "    pandas.DataFrame\n",
        "    \"\"\"\n",
        "        cases = sorted(os.listdir(dir_inst))\n",
        "        print('There are ' + str(len(cases)) + ' folders in directory')\n",
        "        folders = list()\n",
        "        for root, dirs, files in os.walk(dir_inst, topdown=False):\n",
        "            for name in dirs:\n",
        "                folders.append(os.path.join(root, name))\n",
        "        data = list()\n",
        "        for folder in folders:\n",
        "            images = [folder + '/'+ x for x in os.listdir(folder)]\n",
        "            data.append(images)\n",
        "        df = pd.DataFrame({'patient': cases,'X_col': sorted(data)})\n",
        "        \n",
        "        # marge with label dataframe\n",
        "        label_df = pd.read_csv(dir_labels)\n",
        "        df['patient'] = df['patient'].astype('int')\n",
        "        df = df.merge(label_df, left_on = 'patient', right_on = 'case', how = 'inner').loc[:,['case','X_col','y_true']]\n",
        "        \n",
        "        # shuffle condition\n",
        "        if shuffle == True:\n",
        "          df = df.sample(frac = 1,ignore_index = True)\n",
        "        else:\n",
        "          df = df.sort_values(by = ['case'], ignore_index = True)\n",
        "          \n",
        "        print('_ _ _ _ _ Pandas dataframe is ready _ _ _ _ _')\n",
        "        return df\n"
      ]
    },
    {
      "cell_type": "code",
      "source": [
        "def make_test_generator (dir_inst, dir_labels):\n",
        "  df = make_dataframe(dir_inst = dir_inst, \n",
        "                            dir_labels = dir_labels, \n",
        "                            shuffle = False)\n",
        "  generator = CustomDataGenerator (df = df, shuffle = False, augmentations = False )\n",
        "  return generator"
      ],
      "metadata": {
        "id": "S8hOOnhmVdA3"
      },
      "execution_count": null,
      "outputs": []
    },
    {
      "cell_type": "code",
      "source": [
        "def evaluate_model(model):\n",
        "  print('40_20 Test set')\n",
        "  model.evaluate(test_40_20)\n",
        "  print('40_10 Test set')\n",
        "  model.evaluate(test_40_10)\n",
        "  print('40_5 Test set')\n",
        "  model.evaluate(test_40_5)\n",
        "  print('40_1 Test set')\n",
        "  model.evaluate(test_40_1)"
      ],
      "metadata": {
        "id": "UH44wtPZZ_fs"
      },
      "execution_count": null,
      "outputs": []
    },
    {
      "cell_type": "markdown",
      "source": [
        "# Make Data generators "
      ],
      "metadata": {
        "id": "SatW5nf4U42p"
      }
    },
    {
      "cell_type": "code",
      "source": [
        "test_40_20 = make_test_generator (dir_inst = '/content/Test_40_20/Test_40_20',  dir_labels = '/content/Test_40_20/df.csv')\n",
        "test_40_10 = make_test_generator (dir_inst = '/content/Test_40_10/Test_40_10',  dir_labels = '/content/Test_40_10/df.csv')\n",
        "test_40_5 = make_test_generator (dir_inst = '/content/Test_40_5/Test_40_5',  dir_labels = '/content/Test_40_5/df.csv')\n",
        "test_40_1 = make_test_generator (dir_inst = '/content/Test_40_1/Test_40_1',  dir_labels = '/content/Test_40_1/df.csv')\n",
        "                            "
      ],
      "metadata": {
        "id": "5-iVWVuyVJe0",
        "colab": {
          "base_uri": "https://localhost:8080/"
        },
        "outputId": "fa81f1c7-133f-492d-d469-b7e719bc70e4"
      },
      "execution_count": null,
      "outputs": [
        {
          "output_type": "stream",
          "name": "stdout",
          "text": [
            "There are 1000 folders in directory\n",
            "_ _ _ _ _ Pandas dataframe is ready _ _ _ _ _\n",
            "There are 1000 folders in directory\n",
            "_ _ _ _ _ Pandas dataframe is ready _ _ _ _ _\n",
            "There are 1000 folders in directory\n",
            "_ _ _ _ _ Pandas dataframe is ready _ _ _ _ _\n",
            "There are 1000 folders in directory\n",
            "_ _ _ _ _ Pandas dataframe is ready _ _ _ _ _\n"
          ]
        }
      ]
    },
    {
      "cell_type": "markdown",
      "source": [
        "# Load models"
      ],
      "metadata": {
        "id": "JPG9OTesW56R"
      }
    },
    {
      "cell_type": "code",
      "source": [
        "model_500 = tf.keras.models.load_model('/content/drive/MyDrive/Data Science/DS projects/MIL CCRCC/40_20/Models/Simple_Model_500/Simple_Model_500')\n",
        "model_1000 = tf.keras.models.load_model('/content/drive/MyDrive/Data Science/DS projects/MIL CCRCC/40_20/Models/Simple_Model_1000/Simple_Model_1000')\n",
        "model_2000 = tf.keras.models.load_model('/content/drive/MyDrive/Data Science/DS projects/MIL CCRCC/40_20/Models/Simple_Model_2000/Simple_Model_2000')"
      ],
      "metadata": {
        "id": "Nvh9QVoMW8e6"
      },
      "execution_count": null,
      "outputs": []
    },
    {
      "cell_type": "markdown",
      "source": [
        "# Evaluate Model_500"
      ],
      "metadata": {
        "id": "CDWrHJeUXkMG"
      }
    },
    {
      "cell_type": "code",
      "source": [
        "evaluate_model(model_500)"
      ],
      "metadata": {
        "colab": {
          "base_uri": "https://localhost:8080/"
        },
        "id": "28pzI9ugXnNb",
        "outputId": "bddc12b4-6362-4c33-d43b-3069d9c4daa4"
      },
      "execution_count": null,
      "outputs": [
        {
          "output_type": "stream",
          "name": "stdout",
          "text": [
            "40_20 Test set\n",
            "1000/1000 [==============================] - 130s 125ms/step - loss: 0.4901 - accuracy: 0.9090 - AUC: 0.9400 - PR_AUC: 0.9263 - Precision: 0.8460 - Recall: 1.0000\n",
            "40_10 Test set\n",
            "1000/1000 [==============================] - 128s 128ms/step - loss: 0.4330 - accuracy: 0.9100 - AUC: 0.9467 - PR_AUC: 0.9346 - Precision: 0.8486 - Recall: 0.9980\n",
            "40_5 Test set\n",
            "1000/1000 [==============================] - 128s 128ms/step - loss: 0.6496 - accuracy: 0.8640 - AUC: 0.9198 - PR_AUC: 0.9043 - Precision: 0.8273 - Recall: 0.9200\n",
            "40_1 Test set\n",
            "1000/1000 [==============================] - 128s 128ms/step - loss: 1.2660 - accuracy: 0.6500 - AUC: 0.6860 - PR_AUC: 0.6621 - Precision: 0.7389 - Recall: 0.4640\n"
          ]
        }
      ]
    },
    {
      "cell_type": "markdown",
      "source": [
        "# Evaluate Model_1000"
      ],
      "metadata": {
        "id": "ym-OlWrtg_87"
      }
    },
    {
      "cell_type": "code",
      "source": [
        "evaluate_model(model_1000)"
      ],
      "metadata": {
        "colab": {
          "base_uri": "https://localhost:8080/"
        },
        "outputId": "426a1b9c-a39f-40e3-9f93-1568347f5dbe",
        "id": "yoQNQgkcg_9K"
      },
      "execution_count": null,
      "outputs": [
        {
          "output_type": "stream",
          "name": "stdout",
          "text": [
            "40_20 Test set\n",
            "1000/1000 [==============================] - 129s 124ms/step - loss: 0.0662 - accuracy: 0.9910 - AUC: 0.9974 - PR_AUC: 0.9967 - Precision: 0.9823 - Recall: 1.0000\n",
            "40_10 Test set\n",
            "1000/1000 [==============================] - 121s 121ms/step - loss: 0.1249 - accuracy: 0.9650 - AUC: 0.9903 - PR_AUC: 0.9884 - Precision: 0.9697 - Recall: 0.9600\n",
            "40_5 Test set\n",
            "1000/1000 [==============================] - 119s 119ms/step - loss: 0.6007 - accuracy: 0.8070 - AUC: 0.8971 - PR_AUC: 0.8907 - Precision: 0.9555 - Recall: 0.6440\n",
            "40_1 Test set\n",
            "1000/1000 [==============================] - 119s 119ms/step - loss: 2.4489 - accuracy: 0.5450 - AUC: 0.5917 - PR_AUC: 0.5743 - Precision: 0.8082 - Recall: 0.1180\n"
          ]
        }
      ]
    },
    {
      "cell_type": "markdown",
      "source": [
        "# Evaluate Model_2000"
      ],
      "metadata": {
        "id": "oa0HiHGjjLJZ"
      }
    },
    {
      "cell_type": "code",
      "source": [
        "evaluate_model(model_2000)"
      ],
      "metadata": {
        "colab": {
          "base_uri": "https://localhost:8080/"
        },
        "outputId": "c4f27fd7-53c3-474f-ec37-bf70a5e80bb2",
        "id": "1XACctZ9jLJo"
      },
      "execution_count": null,
      "outputs": [
        {
          "output_type": "stream",
          "name": "stdout",
          "text": [
            "40_20 Test set\n",
            "1000/1000 [==============================] - 126s 119ms/step - loss: 0.0098 - accuracy: 0.9950 - AUC: 1.0000 - PR_AUC: 1.0000 - Precision: 0.9901 - Recall: 1.0000\n",
            "40_10 Test set\n",
            "1000/1000 [==============================] - 118s 118ms/step - loss: 0.0467 - accuracy: 0.9870 - AUC: 0.9969 - PR_AUC: 0.9962 - Precision: 0.9980 - Recall: 0.9760\n",
            "40_5 Test set\n",
            "1000/1000 [==============================] - 118s 118ms/step - loss: 0.7663 - accuracy: 0.7800 - AUC: 0.8733 - PR_AUC: 0.8597 - Precision: 0.9965 - Recall: 0.5620\n",
            "40_1 Test set\n",
            "1000/1000 [==============================] - 117s 117ms/step - loss: 3.0939 - accuracy: 0.5230 - AUC: 0.5606 - PR_AUC: 0.5471 - Precision: 0.8966 - Recall: 0.0520\n"
          ]
        }
      ]
    }
  ]
}